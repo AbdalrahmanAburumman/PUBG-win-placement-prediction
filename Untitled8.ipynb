{
  "cells": [
    {
      "cell_type": "code",
      "execution_count": null,
      "metadata": {
        "id": "Ce7xEaZumAkb"
      },
      "outputs": [],
      "source": [
        "import numpy as np\n",
        "import pandas as pd\n",
        "import matplotlib.pyplot as plt\n",
        "import seaborn\n"
      ]
    },
    {
      "cell_type": "code",
      "execution_count": null,
      "metadata": {
        "id": "SPyS5TdrnbHE"
      },
      "outputs": [],
      "source": [
        "df=pd.read_csv(\"/content/drive/MyDrive/pupg_ml/train_V2.csv\")\n",
        "df.head()"
      ]
    },
    {
      "cell_type": "code",
      "execution_count": null,
      "metadata": {
        "id": "ka60i_4mn0sg"
      },
      "outputs": [],
      "source": [
        "df.info()"
      ]
    },
    {
      "cell_type": "code",
      "execution_count": null,
      "metadata": {
        "id": "oNKkQ9-3tPgh"
      },
      "outputs": [],
      "source": [
        "df[\"matchType\"].value_counts()"
      ]
    },
    {
      "cell_type": "code",
      "execution_count": null,
      "metadata": {
        "id": "NvA5cilPiZMw"
      },
      "outputs": [],
      "source": [
        "df['winPlacePerc'].fillna(df['winPlacePerc'].mean(),inplace=True)"
      ]
    },
    {
      "cell_type": "code",
      "execution_count": null,
      "metadata": {
        "id": "BmzSVdrIiGjS"
      },
      "outputs": [],
      "source": [
        "df.isnull().sum()"
      ]
    },
    {
      "cell_type": "code",
      "execution_count": null,
      "metadata": {
        "id": "DtfSgPRmtg8c"
      },
      "outputs": [],
      "source": [
        "from sklearn.preprocessing import OrdinalEncoder\n",
        "enc = OrdinalEncoder()\n",
        "\n",
        "cat=df.select_dtypes(include=object).columns.tolist()\n",
        "df[cat]=enc.fit_transform(df[cat])"
      ]
    },
    {
      "cell_type": "code",
      "execution_count": null,
      "metadata": {
        "id": "buNjfTMQvc5J"
      },
      "outputs": [],
      "source": [
        "df.describe()"
      ]
    },
    {
      "cell_type": "code",
      "execution_count": null,
      "metadata": {
        "id": "3iRSqt5iKimv"
      },
      "outputs": [],
      "source": [
        "corr_matrix = df.corr()['winPlacePerc']\n",
        "\n",
        "# Sort correlation values in descending order\n",
        "sorted_corr = corr_matrix.sort_values(ascending=False)\n",
        "\n",
        "# Set up the figure and axes\n",
        "fig, ax = plt.subplots(figsize=(20, 20))\n",
        "\n",
        "# Generate heatmap\n",
        "seaborn.heatmap(df[sorted_corr.index].corr(), annot=True, fmt=\".2f\", cmap=\"coolwarm\", ax=ax)\n",
        "\n",
        "# Set title\n",
        "plt.title('Correlation Matrix with Target Feature')\n",
        "\n",
        "# Show the plot\n",
        "plt.show()"
      ]
    },
    {
      "cell_type": "code",
      "execution_count": null,
      "metadata": {
        "id": "hKb4cKyo0SGJ"
      },
      "outputs": [],
      "source": [
        "corr_matrix = df.corr()['winPlacePerc'][:-1]\n",
        "\n",
        "# Select all 29 columns\n",
        "columns = corr_matrix.index[3:29]\n",
        "\n",
        "plt.bar(columns, corr_matrix.values[3:29])\n",
        "plt.xticks(rotation=90)\n",
        "plt.xlabel('Features')\n",
        "plt.ylabel('Correlation with target')\n",
        "plt.title('Correlation between features and target')\n",
        "plt.show()"
      ]
    },
    {
      "cell_type": "markdown",
      "metadata": {
        "id": "3y8f4EKCOKur"
      },
      "source": [
        "   As we can see in the heatmap and the diagram of the correlation between the features and the target there is strong correlation with the features: boosts,kills,walkDistance,weaponsAcquired which makes sense;because these are the main componants to win battle ground games.\n",
        "   And there is strong negative correlation with the feature killPlace which also makes sense; due the range of values of the feature where if you have a high value ranking then you killed less in the game and your win place will be low.\n",
        "   And there is a lot of values that have no correlation with the target; because they don't have much impact in the game itself.\n",
        "\n",
        "\n"
      ]
    },
    {
      "cell_type": "code",
      "execution_count": null,
      "metadata": {
        "id": "xlZNqEwSy4xb"
      },
      "outputs": [],
      "source": [
        "for feature in df.columns:\n",
        "    plt.figure(figsize=(4,4))\n",
        "    plt.boxplot(df[feature])\n",
        "    plt.title(feature + ' Boxplot')\n",
        "    plt.ylabel('Value')\n",
        "    plt.show()"
      ]
    },
    {
      "cell_type": "code",
      "execution_count": null,
      "metadata": {
        "id": "JMNcf-7D7fDV"
      },
      "outputs": [],
      "source": [
        "df[\"kills\"].unique()"
      ]
    },
    {
      "cell_type": "code",
      "execution_count": null,
      "metadata": {
        "id": "jnnmjYGWNYHB"
      },
      "outputs": [],
      "source": [
        "plt.hist(df[\"kills\"],bins=100,range=(0,10));"
      ]
    },
    {
      "cell_type": "code",
      "execution_count": null,
      "metadata": {
        "id": "srq8FJoyJ8jj"
      },
      "outputs": [],
      "source": [
        "df[\"kills\"].value_counts().sum"
      ]
    },
    {
      "cell_type": "code",
      "execution_count": null,
      "metadata": {
        "id": "9Z2MqqzPN3ww"
      },
      "outputs": [],
      "source": [
        "import numpy as np\n",
        "Q1=np.percentile(df[\"kills\"],25)\n",
        "Q3=np.percentile(df[\"kills\"],75)\n",
        "IQR=Q3-Q1\n",
        "lower_bound = Q1 - (1.5 * IQR)\n",
        "upper_bound = Q3 + (1.5 * IQR)\n",
        "print(\"lower bound=\" ,lower_bound)\n",
        "print(\"upper bound=\" ,upper_bound)"
      ]
    },
    {
      "cell_type": "code",
      "execution_count": null,
      "metadata": {
        "id": "kkv9YT20HjZW"
      },
      "outputs": [],
      "source": [
        "Hackers= df[((df[\"winPlacePerc\"] == 1) & (df[\"walkDistance\"]==0.0)) | (df[\"kills\"]>45)]\n",
        "\n",
        "Hackers"
      ]
    },
    {
      "cell_type": "markdown",
      "metadata": {
        "id": "KRey6fg4R9PR"
      },
      "source": [
        "My method in identifing hackers depends on two things\n",
        "\n",
        "\n",
        "1.   number of kills: I did a little research about the high score of the number of kills in a single game and it was 45 so any player that had more than 45 kills is identifed as a hacker.\n",
        "2.   winplace and distance : there is no way that a player could win a whole game without moving at all so if there is someone who got a win place prediction of 1 and didn't move then he is hacker.\n",
        "\n",
        "There are other methods such like damage dealt and healing objects used but I chose these.\n",
        "\n"
      ]
    },
    {
      "cell_type": "code",
      "execution_count": null,
      "metadata": {
        "id": "WiXh5avzNVly"
      },
      "outputs": [],
      "source": [
        "AFK=df[(df['walkDistance']==0.0) & (df['winPlacePerc']==0.0)]\n",
        "AFK"
      ]
    },
    {
      "cell_type": "markdown",
      "metadata": {
        "id": "TKwhmnsdTwKr"
      },
      "source": [
        "My method in AFK is that if a player didn't move at all so the distance is 0 then he is AFK but to separate them from hackers I added that there win place prediction is 0\n",
        "And as we can see in the data frame the rest of the features are also 0 such as kills and weapon Acquired\t"
      ]
    },
    {
      "cell_type": "code",
      "execution_count": null,
      "metadata": {
        "id": "dLeyo-6mBwKg"
      },
      "outputs": [],
      "source": [
        "len(df[\"heals\"])"
      ]
    },
    {
      "cell_type": "code",
      "execution_count": null,
      "metadata": {
        "id": "1X7epbvMTo5Q"
      },
      "outputs": [],
      "source": [
        "#DamagePerHeal:  how much healing objects needed for the damage dealt in match \n",
        "df[\"DamagePerHeal\"]=df[\"damageDealt\"]/df[\"heals\"]\n",
        "for i in range(len(df[\"heals\"])):\n",
        "   if df[\"heals\"][i] == 0.0 :\n",
        "     df[\"DamagePerHeal\"][i] = 0.0\n",
        "df[\"DamagePerHeal\"]"
      ]
    },
    {
      "cell_type": "code",
      "execution_count": null,
      "metadata": {
        "id": "qoxizKef4GGh"
      },
      "outputs": [],
      "source": [
        "#Distance:  sum all the distance the player took \n",
        "df[\"Distance\"]=df[\"walkDistance\"]+df[\"rideDistance\"]+df[\"swimDistance\"]"
      ]
    },
    {
      "cell_type": "code",
      "execution_count": null,
      "metadata": {
        "id": "rDoqNpLZHZWu"
      },
      "outputs": [],
      "source": [
        "#DamagePerKill: how many damage did the player take per a kill\n",
        "df[\"DamagePerKill\"]=df[\"damageDealt\"]/df[\"kills\"]\n",
        "for i in range(len(df[\"kills\"])):\n",
        "   if df[\"kills\"][i] == 0.0 :\n",
        "     df[\"DamagePerKill\"][i] = 0.0\n",
        "df[\"DamagePerKill\"]"
      ]
    },
    {
      "cell_type": "code",
      "execution_count": null,
      "metadata": {
        "id": "CuWC-XYZIMlO"
      },
      "outputs": [],
      "source": [
        "#weaponNeededPerKill: how much did the player need weapons per kill (it can be less than 1 because it is a ratio)\n",
        "df[\"weaponNeededPerKill\"]=df[\"weaponsAcquired\"]/df[\"kills\"]\n",
        "for i in range(len(df[\"kills\"])):\n",
        "   if df[\"kills\"][i] == 0.0 :\n",
        "     df[\"weaponNeededPerKill\"][i] = 0.0\n",
        "df[\"weaponNeededPerKill\"]"
      ]
    },
    {
      "cell_type": "code",
      "execution_count": null,
      "metadata": {
        "id": "fVwfsD81Jrga"
      },
      "outputs": [],
      "source": [
        "#TeamContribution:how much did the player contribute in the team work\n",
        "df[\"TeamContribution\"]= df[\"assists\"]+df[\"revives\"]"
      ]
    },
    {
      "cell_type": "code",
      "execution_count": null,
      "metadata": {
        "id": "PVAAJ9W6AyYL"
      },
      "outputs": [],
      "source": [
        "df.head()"
      ]
    },
    {
      "cell_type": "code",
      "execution_count": null,
      "metadata": {
        "id": "EwHrMfOcHSpg"
      },
      "outputs": [],
      "source": [
        "df.drop(columns=[\"Id\",\"groupId\",\"matchId\", \"matchDuration\", \"matchType\", \"maxPlace\", \"numGroups\", \"rankPoints\", \"winPoints\" ])"
      ]
    },
    {
      "cell_type": "code",
      "execution_count": null,
      "metadata": {
        "id": "0_yQh0xxZthk"
      },
      "outputs": [],
      "source": [
        "x=df.drop(columns=\"winPlacePerc\")\n",
        "y=df[\"winPlacePerc\"]"
      ]
    },
    {
      "cell_type": "code",
      "execution_count": null,
      "metadata": {
        "id": "Ev5JFxrvZ9w_"
      },
      "outputs": [],
      "source": [
        "from sklearn.model_selection import train_test_split\n",
        "X_train, X, y_train, Y = train_test_split(x, y, test_size=0.10, random_state=42)\n",
        "X_val, X_test, y_val, y_test = train_test_split(X, Y, test_size=0.50, random_state=42)"
      ]
    },
    {
      "cell_type": "code",
      "execution_count": null,
      "metadata": {
        "id": "I3kiU_m6a0WZ"
      },
      "outputs": [],
      "source": [
        "from sklearn.ensemble import RandomForestRegressor\n",
        "clf=RandomForestRegressor(n_estimators=15)\n",
        "clf.fit(X_train,y_train)\n",
        "y_pred=clf.predict(X_val)\n"
      ]
    },
    {
      "cell_type": "code",
      "execution_count": null,
      "metadata": {
        "id": "ECeVW7ckcKl2"
      },
      "outputs": [],
      "source": [
        "from sklearn.metrics import mean_squared_error\n",
        "mse = mean_squared_error(y_val,y_pred)\n",
        "rmse = np.sqrt(mse)\n",
        "rmse"
      ]
    },
    {
      "cell_type": "code",
      "execution_count": null,
      "metadata": {
        "id": "FpuZgTdxcSPm"
      },
      "outputs": [],
      "source": [
        "feat=[i for i in x.columns]\n",
        "imp=pd.Series(clf.feature_importances_,index=feat).sort_values(ascending=False)\n",
        "imp"
      ]
    },
    {
      "cell_type": "code",
      "execution_count": null,
      "metadata": {
        "id": "woazPfeORPzo"
      },
      "outputs": [],
      "source": [
        "y_pred=clf.predict(X_test)\n",
        "mse = mean_squared_error(y_test,y_pred)\n",
        "rmse = np.sqrt(mse)\n",
        "print(\"test rmse\" ,rmse)"
      ]
    },
    {
      "cell_type": "code",
      "execution_count": null,
      "metadata": {
        "id": "H2Q85b8m5puY"
      },
      "outputs": [],
      "source": [
        "clf.fit(x,y)"
      ]
    },
    {
      "cell_type": "code",
      "execution_count": null,
      "metadata": {
        "id": "HgQvmZr5528k"
      },
      "outputs": [],
      "source": [
        "test=pd.read_csv(\"/content/drive/MyDrive/pupg_ml/newtest (1).csv\")"
      ]
    },
    {
      "cell_type": "code",
      "execution_count": null,
      "metadata": {
        "id": "12WbSstA6gAJ"
      },
      "outputs": [],
      "source": [
        "y_pred=clf.predict(test)"
      ]
    },
    {
      "cell_type": "code",
      "execution_count": null,
      "metadata": {
        "id": "-7NEGHFg6ncm"
      },
      "outputs": [],
      "source": [
        "sub = pd.read_csv(\"/content/drive/MyDrive/pupg_ml/sample_submission_V2.csv\")"
      ]
    },
    {
      "cell_type": "code",
      "execution_count": null,
      "metadata": {
        "id": "JN_7l7z66sGa"
      },
      "outputs": [],
      "source": [
        "sub[\"winPlacePerc\"]= y_pred"
      ]
    },
    {
      "cell_type": "code",
      "execution_count": null,
      "metadata": {
        "id": "rAtBH1Dl64x7"
      },
      "outputs": [],
      "source": [
        "sub"
      ]
    },
    {
      "cell_type": "code",
      "execution_count": null,
      "metadata": {
        "id": "fACvT2is7ABN"
      },
      "outputs": [],
      "source": [
        "sub.to_csv(\"sup.csv\",index=False)"
      ]
    },
    {
      "cell_type": "code",
      "execution_count": null,
      "metadata": {
        "id": "Wj6gh5Dt7O_U"
      },
      "outputs": [],
      "source": []
    }
  ],
  "metadata": {
    "colab": {
      "provenance": []
    },
    "gpuClass": "standard",
    "kernelspec": {
      "display_name": "Python 3",
      "name": "python3"
    },
    "language_info": {
      "name": "python"
    }
  },
  "nbformat": 4,
  "nbformat_minor": 0
}